{
 "cells": [
  {
   "cell_type": "code",
   "execution_count": 1,
   "metadata": {},
   "outputs": [
    {
     "name": "stdout",
     "output_type": "stream",
     "text": [
      "Creating virtual environment...\n"
     ]
    }
   ],
   "source": [
    "# create the virtual environment.\n",
    "\n",
    "import os\n",
    "import subprocess\n",
    "\n",
    "# Define the environment name and path\n",
    "env_name = 'MEM_env'\n",
    "env_path = os.path.join(os.getcwd(), env_name)\n",
    "\n",
    "# Check if the virtual environment already exists\n",
    "if not os.path.exists(env_path):\n",
    "    print(\"Creating virtual environment...\")\n",
    "    subprocess.run(['python', '-m', 'venv', env_name], check=True)\n",
    "else:\n",
    "    print(\"Virtual environment already exists.\")"
   ]
  },
  {
   "cell_type": "markdown",
   "metadata": {},
   "source": [
    "Activate the environment by running this command in your terminal.\n",
    "\n",
    "```bash\n",
    " MEM_env\\\\Scripts\\\\activate\n",
    " ``` "
   ]
  }
 ],
 "metadata": {
  "kernelspec": {
   "display_name": "MEM_env",
   "language": "python",
   "name": "python3"
  },
  "language_info": {
   "codemirror_mode": {
    "name": "ipython",
    "version": 3
   },
   "file_extension": ".py",
   "mimetype": "text/x-python",
   "name": "python",
   "nbconvert_exporter": "python",
   "pygments_lexer": "ipython3",
   "version": "3.12.0"
  }
 },
 "nbformat": 4,
 "nbformat_minor": 2
}
