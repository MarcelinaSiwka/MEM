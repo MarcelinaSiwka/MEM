{
 "cells": [
  {
   "cell_type": "markdown",
   "metadata": {},
   "source": [
    "# Random Forest Classifier"
   ]
  },
  {
   "cell_type": "markdown",
   "metadata": {},
   "source": [
    "based on this video: https://www.youtube.com/watch?v=0GrciaGYzV0 "
   ]
  },
  {
   "cell_type": "markdown",
   "metadata": {},
   "source": [
    "For this random forest classifier, I followed the methods from in the video. He used a different method than we have seen in classes and I wanted to try this one out. The movie is 9 years old though so probably some of the things I used in this nodebook are outdated, but nevertheless it has an accuracy of 90%."
   ]
  },
  {
   "cell_type": "markdown",
   "metadata": {},
   "source": [
    "## Imports"
   ]
  },
  {
   "cell_type": "code",
   "execution_count": null,
   "metadata": {},
   "outputs": [],
   "source": [
    "from sklearn.ensemble import RandomForestClassifier\n",
    "from sklearn.metrics import roc_auc_score\n",
    "import pandas as pd"
   ]
  },
  {
   "cell_type": "markdown",
   "metadata": {},
   "source": [
    "Create an X and y dataset. X are the features and y is the target."
   ]
  },
  {
   "cell_type": "code",
   "execution_count": null,
   "metadata": {},
   "outputs": [],
   "source": [
    "X = pd.read_csv(\"../titanic_correct.csv\")\n",
    "y = X.pop(\"Survived\")"
   ]
  },
  {
   "cell_type": "markdown",
   "metadata": {},
   "source": [
    "Describe the features."
   ]
  },
  {
   "cell_type": "code",
   "execution_count": 3,
   "metadata": {},
   "outputs": [
    {
     "data": {
      "text/html": [
       "<div>\n",
       "<style scoped>\n",
       "    .dataframe tbody tr th:only-of-type {\n",
       "        vertical-align: middle;\n",
       "    }\n",
       "\n",
       "    .dataframe tbody tr th {\n",
       "        vertical-align: top;\n",
       "    }\n",
       "\n",
       "    .dataframe thead th {\n",
       "        text-align: right;\n",
       "    }\n",
       "</style>\n",
       "<table border=\"1\" class=\"dataframe\">\n",
       "  <thead>\n",
       "    <tr style=\"text-align: right;\">\n",
       "      <th></th>\n",
       "      <th>PassengerId</th>\n",
       "      <th>Pclass</th>\n",
       "      <th>Age</th>\n",
       "      <th>SibSp</th>\n",
       "      <th>Parch</th>\n",
       "      <th>Fare</th>\n",
       "    </tr>\n",
       "  </thead>\n",
       "  <tbody>\n",
       "    <tr>\n",
       "      <th>count</th>\n",
       "      <td>891.000000</td>\n",
       "      <td>891.000000</td>\n",
       "      <td>714.000000</td>\n",
       "      <td>891.000000</td>\n",
       "      <td>891.000000</td>\n",
       "      <td>891.000000</td>\n",
       "    </tr>\n",
       "    <tr>\n",
       "      <th>mean</th>\n",
       "      <td>446.000000</td>\n",
       "      <td>2.308642</td>\n",
       "      <td>29.699118</td>\n",
       "      <td>0.523008</td>\n",
       "      <td>0.381594</td>\n",
       "      <td>32.204208</td>\n",
       "    </tr>\n",
       "    <tr>\n",
       "      <th>std</th>\n",
       "      <td>257.353842</td>\n",
       "      <td>0.836071</td>\n",
       "      <td>14.526497</td>\n",
       "      <td>1.102743</td>\n",
       "      <td>0.806057</td>\n",
       "      <td>49.693429</td>\n",
       "    </tr>\n",
       "    <tr>\n",
       "      <th>min</th>\n",
       "      <td>1.000000</td>\n",
       "      <td>1.000000</td>\n",
       "      <td>0.420000</td>\n",
       "      <td>0.000000</td>\n",
       "      <td>0.000000</td>\n",
       "      <td>0.000000</td>\n",
       "    </tr>\n",
       "    <tr>\n",
       "      <th>25%</th>\n",
       "      <td>223.500000</td>\n",
       "      <td>2.000000</td>\n",
       "      <td>20.125000</td>\n",
       "      <td>0.000000</td>\n",
       "      <td>0.000000</td>\n",
       "      <td>7.910400</td>\n",
       "    </tr>\n",
       "    <tr>\n",
       "      <th>50%</th>\n",
       "      <td>446.000000</td>\n",
       "      <td>3.000000</td>\n",
       "      <td>28.000000</td>\n",
       "      <td>0.000000</td>\n",
       "      <td>0.000000</td>\n",
       "      <td>14.454200</td>\n",
       "    </tr>\n",
       "    <tr>\n",
       "      <th>75%</th>\n",
       "      <td>668.500000</td>\n",
       "      <td>3.000000</td>\n",
       "      <td>38.000000</td>\n",
       "      <td>1.000000</td>\n",
       "      <td>0.000000</td>\n",
       "      <td>31.000000</td>\n",
       "    </tr>\n",
       "    <tr>\n",
       "      <th>max</th>\n",
       "      <td>891.000000</td>\n",
       "      <td>3.000000</td>\n",
       "      <td>80.000000</td>\n",
       "      <td>8.000000</td>\n",
       "      <td>6.000000</td>\n",
       "      <td>512.329200</td>\n",
       "    </tr>\n",
       "  </tbody>\n",
       "</table>\n",
       "</div>"
      ],
      "text/plain": [
       "       PassengerId      Pclass         Age       SibSp       Parch        Fare\n",
       "count   891.000000  891.000000  714.000000  891.000000  891.000000  891.000000\n",
       "mean    446.000000    2.308642   29.699118    0.523008    0.381594   32.204208\n",
       "std     257.353842    0.836071   14.526497    1.102743    0.806057   49.693429\n",
       "min       1.000000    1.000000    0.420000    0.000000    0.000000    0.000000\n",
       "25%     223.500000    2.000000   20.125000    0.000000    0.000000    7.910400\n",
       "50%     446.000000    3.000000   28.000000    0.000000    0.000000   14.454200\n",
       "75%     668.500000    3.000000   38.000000    1.000000    0.000000   31.000000\n",
       "max     891.000000    3.000000   80.000000    8.000000    6.000000  512.329200"
      ]
     },
     "execution_count": 3,
     "metadata": {},
     "output_type": "execute_result"
    }
   ],
   "source": [
    "X.describe()"
   ]
  },
  {
   "cell_type": "markdown",
   "metadata": {},
   "source": [
    "We fill the missing values in Age in with the mean. "
   ]
  },
  {
   "cell_type": "code",
   "execution_count": 4,
   "metadata": {},
   "outputs": [
    {
     "data": {
      "text/html": [
       "<div>\n",
       "<style scoped>\n",
       "    .dataframe tbody tr th:only-of-type {\n",
       "        vertical-align: middle;\n",
       "    }\n",
       "\n",
       "    .dataframe tbody tr th {\n",
       "        vertical-align: top;\n",
       "    }\n",
       "\n",
       "    .dataframe thead th {\n",
       "        text-align: right;\n",
       "    }\n",
       "</style>\n",
       "<table border=\"1\" class=\"dataframe\">\n",
       "  <thead>\n",
       "    <tr style=\"text-align: right;\">\n",
       "      <th></th>\n",
       "      <th>PassengerId</th>\n",
       "      <th>Pclass</th>\n",
       "      <th>Age</th>\n",
       "      <th>SibSp</th>\n",
       "      <th>Parch</th>\n",
       "      <th>Fare</th>\n",
       "    </tr>\n",
       "  </thead>\n",
       "  <tbody>\n",
       "    <tr>\n",
       "      <th>count</th>\n",
       "      <td>891.000000</td>\n",
       "      <td>891.000000</td>\n",
       "      <td>891.000000</td>\n",
       "      <td>891.000000</td>\n",
       "      <td>891.000000</td>\n",
       "      <td>891.000000</td>\n",
       "    </tr>\n",
       "    <tr>\n",
       "      <th>mean</th>\n",
       "      <td>446.000000</td>\n",
       "      <td>2.308642</td>\n",
       "      <td>29.699118</td>\n",
       "      <td>0.523008</td>\n",
       "      <td>0.381594</td>\n",
       "      <td>32.204208</td>\n",
       "    </tr>\n",
       "    <tr>\n",
       "      <th>std</th>\n",
       "      <td>257.353842</td>\n",
       "      <td>0.836071</td>\n",
       "      <td>13.002015</td>\n",
       "      <td>1.102743</td>\n",
       "      <td>0.806057</td>\n",
       "      <td>49.693429</td>\n",
       "    </tr>\n",
       "    <tr>\n",
       "      <th>min</th>\n",
       "      <td>1.000000</td>\n",
       "      <td>1.000000</td>\n",
       "      <td>0.420000</td>\n",
       "      <td>0.000000</td>\n",
       "      <td>0.000000</td>\n",
       "      <td>0.000000</td>\n",
       "    </tr>\n",
       "    <tr>\n",
       "      <th>25%</th>\n",
       "      <td>223.500000</td>\n",
       "      <td>2.000000</td>\n",
       "      <td>22.000000</td>\n",
       "      <td>0.000000</td>\n",
       "      <td>0.000000</td>\n",
       "      <td>7.910400</td>\n",
       "    </tr>\n",
       "    <tr>\n",
       "      <th>50%</th>\n",
       "      <td>446.000000</td>\n",
       "      <td>3.000000</td>\n",
       "      <td>29.699118</td>\n",
       "      <td>0.000000</td>\n",
       "      <td>0.000000</td>\n",
       "      <td>14.454200</td>\n",
       "    </tr>\n",
       "    <tr>\n",
       "      <th>75%</th>\n",
       "      <td>668.500000</td>\n",
       "      <td>3.000000</td>\n",
       "      <td>35.000000</td>\n",
       "      <td>1.000000</td>\n",
       "      <td>0.000000</td>\n",
       "      <td>31.000000</td>\n",
       "    </tr>\n",
       "    <tr>\n",
       "      <th>max</th>\n",
       "      <td>891.000000</td>\n",
       "      <td>3.000000</td>\n",
       "      <td>80.000000</td>\n",
       "      <td>8.000000</td>\n",
       "      <td>6.000000</td>\n",
       "      <td>512.329200</td>\n",
       "    </tr>\n",
       "  </tbody>\n",
       "</table>\n",
       "</div>"
      ],
      "text/plain": [
       "       PassengerId      Pclass         Age       SibSp       Parch        Fare\n",
       "count   891.000000  891.000000  891.000000  891.000000  891.000000  891.000000\n",
       "mean    446.000000    2.308642   29.699118    0.523008    0.381594   32.204208\n",
       "std     257.353842    0.836071   13.002015    1.102743    0.806057   49.693429\n",
       "min       1.000000    1.000000    0.420000    0.000000    0.000000    0.000000\n",
       "25%     223.500000    2.000000   22.000000    0.000000    0.000000    7.910400\n",
       "50%     446.000000    3.000000   29.699118    0.000000    0.000000   14.454200\n",
       "75%     668.500000    3.000000   35.000000    1.000000    0.000000   31.000000\n",
       "max     891.000000    3.000000   80.000000    8.000000    6.000000  512.329200"
      ]
     },
     "execution_count": 4,
     "metadata": {},
     "output_type": "execute_result"
    }
   ],
   "source": [
    "X[\"Age\"].fillna(X.Age.mean(), inplace=True)\n",
    "X.describe()"
   ]
  },
  {
   "cell_type": "markdown",
   "metadata": {},
   "source": [
    "Next, we start by looking at the numeric values."
   ]
  },
  {
   "cell_type": "code",
   "execution_count": 5,
   "metadata": {},
   "outputs": [
    {
     "data": {
      "text/html": [
       "<div>\n",
       "<style scoped>\n",
       "    .dataframe tbody tr th:only-of-type {\n",
       "        vertical-align: middle;\n",
       "    }\n",
       "\n",
       "    .dataframe tbody tr th {\n",
       "        vertical-align: top;\n",
       "    }\n",
       "\n",
       "    .dataframe thead th {\n",
       "        text-align: right;\n",
       "    }\n",
       "</style>\n",
       "<table border=\"1\" class=\"dataframe\">\n",
       "  <thead>\n",
       "    <tr style=\"text-align: right;\">\n",
       "      <th></th>\n",
       "      <th>PassengerId</th>\n",
       "      <th>Pclass</th>\n",
       "      <th>Age</th>\n",
       "      <th>SibSp</th>\n",
       "      <th>Parch</th>\n",
       "      <th>Fare</th>\n",
       "    </tr>\n",
       "  </thead>\n",
       "  <tbody>\n",
       "    <tr>\n",
       "      <th>0</th>\n",
       "      <td>1</td>\n",
       "      <td>3</td>\n",
       "      <td>22.0</td>\n",
       "      <td>1</td>\n",
       "      <td>0</td>\n",
       "      <td>7.2500</td>\n",
       "    </tr>\n",
       "    <tr>\n",
       "      <th>1</th>\n",
       "      <td>2</td>\n",
       "      <td>1</td>\n",
       "      <td>38.0</td>\n",
       "      <td>1</td>\n",
       "      <td>0</td>\n",
       "      <td>71.2833</td>\n",
       "    </tr>\n",
       "    <tr>\n",
       "      <th>2</th>\n",
       "      <td>3</td>\n",
       "      <td>3</td>\n",
       "      <td>26.0</td>\n",
       "      <td>0</td>\n",
       "      <td>0</td>\n",
       "      <td>7.9250</td>\n",
       "    </tr>\n",
       "    <tr>\n",
       "      <th>3</th>\n",
       "      <td>4</td>\n",
       "      <td>1</td>\n",
       "      <td>35.0</td>\n",
       "      <td>1</td>\n",
       "      <td>0</td>\n",
       "      <td>53.1000</td>\n",
       "    </tr>\n",
       "    <tr>\n",
       "      <th>4</th>\n",
       "      <td>5</td>\n",
       "      <td>3</td>\n",
       "      <td>35.0</td>\n",
       "      <td>0</td>\n",
       "      <td>0</td>\n",
       "      <td>8.0500</td>\n",
       "    </tr>\n",
       "  </tbody>\n",
       "</table>\n",
       "</div>"
      ],
      "text/plain": [
       "   PassengerId  Pclass   Age  SibSp  Parch     Fare\n",
       "0            1       3  22.0      1      0   7.2500\n",
       "1            2       1  38.0      1      0  71.2833\n",
       "2            3       3  26.0      0      0   7.9250\n",
       "3            4       1  35.0      1      0  53.1000\n",
       "4            5       3  35.0      0      0   8.0500"
      ]
     },
     "execution_count": 5,
     "metadata": {},
     "output_type": "execute_result"
    }
   ],
   "source": [
    "numeric_variables = list(X.dtypes[X.dtypes != \"object\"].index)\n",
    "X[numeric_variables].head()"
   ]
  },
  {
   "cell_type": "markdown",
   "metadata": {},
   "source": [
    "Train the model on the numeric variables."
   ]
  },
  {
   "cell_type": "code",
   "execution_count": null,
   "metadata": {},
   "outputs": [
    {
     "data": {
      "text/html": [
       "<style>#sk-container-id-1 {\n",
       "  /* Definition of color scheme common for light and dark mode */\n",
       "  --sklearn-color-text: black;\n",
       "  --sklearn-color-line: gray;\n",
       "  /* Definition of color scheme for unfitted estimators */\n",
       "  --sklearn-color-unfitted-level-0: #fff5e6;\n",
       "  --sklearn-color-unfitted-level-1: #f6e4d2;\n",
       "  --sklearn-color-unfitted-level-2: #ffe0b3;\n",
       "  --sklearn-color-unfitted-level-3: chocolate;\n",
       "  /* Definition of color scheme for fitted estimators */\n",
       "  --sklearn-color-fitted-level-0: #f0f8ff;\n",
       "  --sklearn-color-fitted-level-1: #d4ebff;\n",
       "  --sklearn-color-fitted-level-2: #b3dbfd;\n",
       "  --sklearn-color-fitted-level-3: cornflowerblue;\n",
       "\n",
       "  /* Specific color for light theme */\n",
       "  --sklearn-color-text-on-default-background: var(--sg-text-color, var(--theme-code-foreground, var(--jp-content-font-color1, black)));\n",
       "  --sklearn-color-background: var(--sg-background-color, var(--theme-background, var(--jp-layout-color0, white)));\n",
       "  --sklearn-color-border-box: var(--sg-text-color, var(--theme-code-foreground, var(--jp-content-font-color1, black)));\n",
       "  --sklearn-color-icon: #696969;\n",
       "\n",
       "  @media (prefers-color-scheme: dark) {\n",
       "    /* Redefinition of color scheme for dark theme */\n",
       "    --sklearn-color-text-on-default-background: var(--sg-text-color, var(--theme-code-foreground, var(--jp-content-font-color1, white)));\n",
       "    --sklearn-color-background: var(--sg-background-color, var(--theme-background, var(--jp-layout-color0, #111)));\n",
       "    --sklearn-color-border-box: var(--sg-text-color, var(--theme-code-foreground, var(--jp-content-font-color1, white)));\n",
       "    --sklearn-color-icon: #878787;\n",
       "  }\n",
       "}\n",
       "\n",
       "#sk-container-id-1 {\n",
       "  color: var(--sklearn-color-text);\n",
       "}\n",
       "\n",
       "#sk-container-id-1 pre {\n",
       "  padding: 0;\n",
       "}\n",
       "\n",
       "#sk-container-id-1 input.sk-hidden--visually {\n",
       "  border: 0;\n",
       "  clip: rect(1px 1px 1px 1px);\n",
       "  clip: rect(1px, 1px, 1px, 1px);\n",
       "  height: 1px;\n",
       "  margin: -1px;\n",
       "  overflow: hidden;\n",
       "  padding: 0;\n",
       "  position: absolute;\n",
       "  width: 1px;\n",
       "}\n",
       "\n",
       "#sk-container-id-1 div.sk-dashed-wrapped {\n",
       "  border: 1px dashed var(--sklearn-color-line);\n",
       "  margin: 0 0.4em 0.5em 0.4em;\n",
       "  box-sizing: border-box;\n",
       "  padding-bottom: 0.4em;\n",
       "  background-color: var(--sklearn-color-background);\n",
       "}\n",
       "\n",
       "#sk-container-id-1 div.sk-container {\n",
       "  /* jupyter's `normalize.less` sets `[hidden] { display: none; }`\n",
       "     but bootstrap.min.css set `[hidden] { display: none !important; }`\n",
       "     so we also need the `!important` here to be able to override the\n",
       "     default hidden behavior on the sphinx rendered scikit-learn.org.\n",
       "     See: https://github.com/scikit-learn/scikit-learn/issues/21755 */\n",
       "  display: inline-block !important;\n",
       "  position: relative;\n",
       "}\n",
       "\n",
       "#sk-container-id-1 div.sk-text-repr-fallback {\n",
       "  display: none;\n",
       "}\n",
       "\n",
       "div.sk-parallel-item,\n",
       "div.sk-serial,\n",
       "div.sk-item {\n",
       "  /* draw centered vertical line to link estimators */\n",
       "  background-image: linear-gradient(var(--sklearn-color-text-on-default-background), var(--sklearn-color-text-on-default-background));\n",
       "  background-size: 2px 100%;\n",
       "  background-repeat: no-repeat;\n",
       "  background-position: center center;\n",
       "}\n",
       "\n",
       "/* Parallel-specific style estimator block */\n",
       "\n",
       "#sk-container-id-1 div.sk-parallel-item::after {\n",
       "  content: \"\";\n",
       "  width: 100%;\n",
       "  border-bottom: 2px solid var(--sklearn-color-text-on-default-background);\n",
       "  flex-grow: 1;\n",
       "}\n",
       "\n",
       "#sk-container-id-1 div.sk-parallel {\n",
       "  display: flex;\n",
       "  align-items: stretch;\n",
       "  justify-content: center;\n",
       "  background-color: var(--sklearn-color-background);\n",
       "  position: relative;\n",
       "}\n",
       "\n",
       "#sk-container-id-1 div.sk-parallel-item {\n",
       "  display: flex;\n",
       "  flex-direction: column;\n",
       "}\n",
       "\n",
       "#sk-container-id-1 div.sk-parallel-item:first-child::after {\n",
       "  align-self: flex-end;\n",
       "  width: 50%;\n",
       "}\n",
       "\n",
       "#sk-container-id-1 div.sk-parallel-item:last-child::after {\n",
       "  align-self: flex-start;\n",
       "  width: 50%;\n",
       "}\n",
       "\n",
       "#sk-container-id-1 div.sk-parallel-item:only-child::after {\n",
       "  width: 0;\n",
       "}\n",
       "\n",
       "/* Serial-specific style estimator block */\n",
       "\n",
       "#sk-container-id-1 div.sk-serial {\n",
       "  display: flex;\n",
       "  flex-direction: column;\n",
       "  align-items: center;\n",
       "  background-color: var(--sklearn-color-background);\n",
       "  padding-right: 1em;\n",
       "  padding-left: 1em;\n",
       "}\n",
       "\n",
       "\n",
       "/* Toggleable style: style used for estimator/Pipeline/ColumnTransformer box that is\n",
       "clickable and can be expanded/collapsed.\n",
       "- Pipeline and ColumnTransformer use this feature and define the default style\n",
       "- Estimators will overwrite some part of the style using the `sk-estimator` class\n",
       "*/\n",
       "\n",
       "/* Pipeline and ColumnTransformer style (default) */\n",
       "\n",
       "#sk-container-id-1 div.sk-toggleable {\n",
       "  /* Default theme specific background. It is overwritten whether we have a\n",
       "  specific estimator or a Pipeline/ColumnTransformer */\n",
       "  background-color: var(--sklearn-color-background);\n",
       "}\n",
       "\n",
       "/* Toggleable label */\n",
       "#sk-container-id-1 label.sk-toggleable__label {\n",
       "  cursor: pointer;\n",
       "  display: block;\n",
       "  width: 100%;\n",
       "  margin-bottom: 0;\n",
       "  padding: 0.5em;\n",
       "  box-sizing: border-box;\n",
       "  text-align: center;\n",
       "}\n",
       "\n",
       "#sk-container-id-1 label.sk-toggleable__label-arrow:before {\n",
       "  /* Arrow on the left of the label */\n",
       "  content: \"▸\";\n",
       "  float: left;\n",
       "  margin-right: 0.25em;\n",
       "  color: var(--sklearn-color-icon);\n",
       "}\n",
       "\n",
       "#sk-container-id-1 label.sk-toggleable__label-arrow:hover:before {\n",
       "  color: var(--sklearn-color-text);\n",
       "}\n",
       "\n",
       "/* Toggleable content - dropdown */\n",
       "\n",
       "#sk-container-id-1 div.sk-toggleable__content {\n",
       "  max-height: 0;\n",
       "  max-width: 0;\n",
       "  overflow: hidden;\n",
       "  text-align: left;\n",
       "  /* unfitted */\n",
       "  background-color: var(--sklearn-color-unfitted-level-0);\n",
       "}\n",
       "\n",
       "#sk-container-id-1 div.sk-toggleable__content.fitted {\n",
       "  /* fitted */\n",
       "  background-color: var(--sklearn-color-fitted-level-0);\n",
       "}\n",
       "\n",
       "#sk-container-id-1 div.sk-toggleable__content pre {\n",
       "  margin: 0.2em;\n",
       "  border-radius: 0.25em;\n",
       "  color: var(--sklearn-color-text);\n",
       "  /* unfitted */\n",
       "  background-color: var(--sklearn-color-unfitted-level-0);\n",
       "}\n",
       "\n",
       "#sk-container-id-1 div.sk-toggleable__content.fitted pre {\n",
       "  /* unfitted */\n",
       "  background-color: var(--sklearn-color-fitted-level-0);\n",
       "}\n",
       "\n",
       "#sk-container-id-1 input.sk-toggleable__control:checked~div.sk-toggleable__content {\n",
       "  /* Expand drop-down */\n",
       "  max-height: 200px;\n",
       "  max-width: 100%;\n",
       "  overflow: auto;\n",
       "}\n",
       "\n",
       "#sk-container-id-1 input.sk-toggleable__control:checked~label.sk-toggleable__label-arrow:before {\n",
       "  content: \"▾\";\n",
       "}\n",
       "\n",
       "/* Pipeline/ColumnTransformer-specific style */\n",
       "\n",
       "#sk-container-id-1 div.sk-label input.sk-toggleable__control:checked~label.sk-toggleable__label {\n",
       "  color: var(--sklearn-color-text);\n",
       "  background-color: var(--sklearn-color-unfitted-level-2);\n",
       "}\n",
       "\n",
       "#sk-container-id-1 div.sk-label.fitted input.sk-toggleable__control:checked~label.sk-toggleable__label {\n",
       "  background-color: var(--sklearn-color-fitted-level-2);\n",
       "}\n",
       "\n",
       "/* Estimator-specific style */\n",
       "\n",
       "/* Colorize estimator box */\n",
       "#sk-container-id-1 div.sk-estimator input.sk-toggleable__control:checked~label.sk-toggleable__label {\n",
       "  /* unfitted */\n",
       "  background-color: var(--sklearn-color-unfitted-level-2);\n",
       "}\n",
       "\n",
       "#sk-container-id-1 div.sk-estimator.fitted input.sk-toggleable__control:checked~label.sk-toggleable__label {\n",
       "  /* fitted */\n",
       "  background-color: var(--sklearn-color-fitted-level-2);\n",
       "}\n",
       "\n",
       "#sk-container-id-1 div.sk-label label.sk-toggleable__label,\n",
       "#sk-container-id-1 div.sk-label label {\n",
       "  /* The background is the default theme color */\n",
       "  color: var(--sklearn-color-text-on-default-background);\n",
       "}\n",
       "\n",
       "/* On hover, darken the color of the background */\n",
       "#sk-container-id-1 div.sk-label:hover label.sk-toggleable__label {\n",
       "  color: var(--sklearn-color-text);\n",
       "  background-color: var(--sklearn-color-unfitted-level-2);\n",
       "}\n",
       "\n",
       "/* Label box, darken color on hover, fitted */\n",
       "#sk-container-id-1 div.sk-label.fitted:hover label.sk-toggleable__label.fitted {\n",
       "  color: var(--sklearn-color-text);\n",
       "  background-color: var(--sklearn-color-fitted-level-2);\n",
       "}\n",
       "\n",
       "/* Estimator label */\n",
       "\n",
       "#sk-container-id-1 div.sk-label label {\n",
       "  font-family: monospace;\n",
       "  font-weight: bold;\n",
       "  display: inline-block;\n",
       "  line-height: 1.2em;\n",
       "}\n",
       "\n",
       "#sk-container-id-1 div.sk-label-container {\n",
       "  text-align: center;\n",
       "}\n",
       "\n",
       "/* Estimator-specific */\n",
       "#sk-container-id-1 div.sk-estimator {\n",
       "  font-family: monospace;\n",
       "  border: 1px dotted var(--sklearn-color-border-box);\n",
       "  border-radius: 0.25em;\n",
       "  box-sizing: border-box;\n",
       "  margin-bottom: 0.5em;\n",
       "  /* unfitted */\n",
       "  background-color: var(--sklearn-color-unfitted-level-0);\n",
       "}\n",
       "\n",
       "#sk-container-id-1 div.sk-estimator.fitted {\n",
       "  /* fitted */\n",
       "  background-color: var(--sklearn-color-fitted-level-0);\n",
       "}\n",
       "\n",
       "/* on hover */\n",
       "#sk-container-id-1 div.sk-estimator:hover {\n",
       "  /* unfitted */\n",
       "  background-color: var(--sklearn-color-unfitted-level-2);\n",
       "}\n",
       "\n",
       "#sk-container-id-1 div.sk-estimator.fitted:hover {\n",
       "  /* fitted */\n",
       "  background-color: var(--sklearn-color-fitted-level-2);\n",
       "}\n",
       "\n",
       "/* Specification for estimator info (e.g. \"i\" and \"?\") */\n",
       "\n",
       "/* Common style for \"i\" and \"?\" */\n",
       "\n",
       ".sk-estimator-doc-link,\n",
       "a:link.sk-estimator-doc-link,\n",
       "a:visited.sk-estimator-doc-link {\n",
       "  float: right;\n",
       "  font-size: smaller;\n",
       "  line-height: 1em;\n",
       "  font-family: monospace;\n",
       "  background-color: var(--sklearn-color-background);\n",
       "  border-radius: 1em;\n",
       "  height: 1em;\n",
       "  width: 1em;\n",
       "  text-decoration: none !important;\n",
       "  margin-left: 1ex;\n",
       "  /* unfitted */\n",
       "  border: var(--sklearn-color-unfitted-level-1) 1pt solid;\n",
       "  color: var(--sklearn-color-unfitted-level-1);\n",
       "}\n",
       "\n",
       ".sk-estimator-doc-link.fitted,\n",
       "a:link.sk-estimator-doc-link.fitted,\n",
       "a:visited.sk-estimator-doc-link.fitted {\n",
       "  /* fitted */\n",
       "  border: var(--sklearn-color-fitted-level-1) 1pt solid;\n",
       "  color: var(--sklearn-color-fitted-level-1);\n",
       "}\n",
       "\n",
       "/* On hover */\n",
       "div.sk-estimator:hover .sk-estimator-doc-link:hover,\n",
       ".sk-estimator-doc-link:hover,\n",
       "div.sk-label-container:hover .sk-estimator-doc-link:hover,\n",
       ".sk-estimator-doc-link:hover {\n",
       "  /* unfitted */\n",
       "  background-color: var(--sklearn-color-unfitted-level-3);\n",
       "  color: var(--sklearn-color-background);\n",
       "  text-decoration: none;\n",
       "}\n",
       "\n",
       "div.sk-estimator.fitted:hover .sk-estimator-doc-link.fitted:hover,\n",
       ".sk-estimator-doc-link.fitted:hover,\n",
       "div.sk-label-container:hover .sk-estimator-doc-link.fitted:hover,\n",
       ".sk-estimator-doc-link.fitted:hover {\n",
       "  /* fitted */\n",
       "  background-color: var(--sklearn-color-fitted-level-3);\n",
       "  color: var(--sklearn-color-background);\n",
       "  text-decoration: none;\n",
       "}\n",
       "\n",
       "/* Span, style for the box shown on hovering the info icon */\n",
       ".sk-estimator-doc-link span {\n",
       "  display: none;\n",
       "  z-index: 9999;\n",
       "  position: relative;\n",
       "  font-weight: normal;\n",
       "  right: .2ex;\n",
       "  padding: .5ex;\n",
       "  margin: .5ex;\n",
       "  width: min-content;\n",
       "  min-width: 20ex;\n",
       "  max-width: 50ex;\n",
       "  color: var(--sklearn-color-text);\n",
       "  box-shadow: 2pt 2pt 4pt #999;\n",
       "  /* unfitted */\n",
       "  background: var(--sklearn-color-unfitted-level-0);\n",
       "  border: .5pt solid var(--sklearn-color-unfitted-level-3);\n",
       "}\n",
       "\n",
       ".sk-estimator-doc-link.fitted span {\n",
       "  /* fitted */\n",
       "  background: var(--sklearn-color-fitted-level-0);\n",
       "  border: var(--sklearn-color-fitted-level-3);\n",
       "}\n",
       "\n",
       ".sk-estimator-doc-link:hover span {\n",
       "  display: block;\n",
       "}\n",
       "\n",
       "/* \"?\"-specific style due to the `<a>` HTML tag */\n",
       "\n",
       "#sk-container-id-1 a.estimator_doc_link {\n",
       "  float: right;\n",
       "  font-size: 1rem;\n",
       "  line-height: 1em;\n",
       "  font-family: monospace;\n",
       "  background-color: var(--sklearn-color-background);\n",
       "  border-radius: 1rem;\n",
       "  height: 1rem;\n",
       "  width: 1rem;\n",
       "  text-decoration: none;\n",
       "  /* unfitted */\n",
       "  color: var(--sklearn-color-unfitted-level-1);\n",
       "  border: var(--sklearn-color-unfitted-level-1) 1pt solid;\n",
       "}\n",
       "\n",
       "#sk-container-id-1 a.estimator_doc_link.fitted {\n",
       "  /* fitted */\n",
       "  border: var(--sklearn-color-fitted-level-1) 1pt solid;\n",
       "  color: var(--sklearn-color-fitted-level-1);\n",
       "}\n",
       "\n",
       "/* On hover */\n",
       "#sk-container-id-1 a.estimator_doc_link:hover {\n",
       "  /* unfitted */\n",
       "  background-color: var(--sklearn-color-unfitted-level-3);\n",
       "  color: var(--sklearn-color-background);\n",
       "  text-decoration: none;\n",
       "}\n",
       "\n",
       "#sk-container-id-1 a.estimator_doc_link.fitted:hover {\n",
       "  /* fitted */\n",
       "  background-color: var(--sklearn-color-fitted-level-3);\n",
       "}\n",
       "</style><div id=\"sk-container-id-1\" class=\"sk-top-container\"><div class=\"sk-text-repr-fallback\"><pre>RandomForestClassifier(oob_score=True, random_state=42)</pre><b>In a Jupyter environment, please rerun this cell to show the HTML representation or trust the notebook. <br />On GitHub, the HTML representation is unable to render, please try loading this page with nbviewer.org.</b></div><div class=\"sk-container\" hidden><div class=\"sk-item\"><div class=\"sk-estimator fitted sk-toggleable\"><input class=\"sk-toggleable__control sk-hidden--visually\" id=\"sk-estimator-id-1\" type=\"checkbox\" checked><label for=\"sk-estimator-id-1\" class=\"sk-toggleable__label fitted sk-toggleable__label-arrow fitted\">&nbsp;&nbsp;RandomForestClassifier<a class=\"sk-estimator-doc-link fitted\" rel=\"noreferrer\" target=\"_blank\" href=\"https://scikit-learn.org/1.4/modules/generated/sklearn.ensemble.RandomForestClassifier.html\">?<span>Documentation for RandomForestClassifier</span></a><span class=\"sk-estimator-doc-link fitted\">i<span>Fitted</span></span></label><div class=\"sk-toggleable__content fitted\"><pre>RandomForestClassifier(oob_score=True, random_state=42)</pre></div> </div></div></div></div>"
      ],
      "text/plain": [
       "RandomForestClassifier(oob_score=True, random_state=42)"
      ]
     },
     "execution_count": 6,
     "metadata": {},
     "output_type": "execute_result"
    }
   ],
   "source": [
    "model = RandomForestClassifier(n_estimators=100, oob_score=True, random_state=42) #n_estimators = number of decision trees. oob = out of bag: samples that are not used to train a specific tree. OOB error is the average error for these out-of-bag samples\n",
    "model.fit(X[numeric_variables], y)"
   ]
  },
  {
   "cell_type": "code",
   "execution_count": 7,
   "metadata": {},
   "outputs": [
    {
     "data": {
      "text/plain": [
       "0.712682379349046"
      ]
     },
     "execution_count": 7,
     "metadata": {},
     "output_type": "execute_result"
    }
   ],
   "source": [
    "model.oob_score_"
   ]
  },
  {
   "cell_type": "markdown",
   "metadata": {},
   "source": [
    "Calculate the ROC-AUC score."
   ]
  },
  {
   "cell_type": "code",
   "execution_count": 8,
   "metadata": {},
   "outputs": [
    {
     "name": "stdout",
     "output_type": "stream",
     "text": [
      "c-stat/roc-auc score:  0.7551822026225247\n"
     ]
    }
   ],
   "source": [
    "y_oob = model.oob_decision_function_[:, 1] \n",
    "print(\"c-stat/roc-auc score: \", roc_auc_score(y, y_oob))"
   ]
  },
  {
   "cell_type": "markdown",
   "metadata": {},
   "source": [
    "We become a roc-auc score of 76%."
   ]
  },
  {
   "cell_type": "code",
   "execution_count": 9,
   "metadata": {},
   "outputs": [
    {
     "data": {
      "text/plain": [
       "array([0.44444444, 0.75862069, 0.20930233, 0.5       , 0.3       ,\n",
       "       0.41463415, 0.58823529, 0.20588235, 0.61111111, 0.63414634,\n",
       "       0.72222222, 0.26470588, 0.29032258, 0.575     , 0.80645161,\n",
       "       0.3125    , 0.11111111, 0.64285714, 0.36956522, 0.3030303 ,\n",
       "       0.77142857, 0.64102564, 0.17948718, 0.5       , 0.16666667,\n",
       "       0.02564103, 0.93181818, 0.74285714, 0.5625    , 0.31578947,\n",
       "       0.52631579, 0.47368421, 0.88636364, 0.55882353, 0.84615385,\n",
       "       0.5       , 0.56666667, 0.075     , 0.15789474, 0.40425532,\n",
       "       0.2       , 0.51111111, 0.14285714, 0.9375    , 0.36363636,\n",
       "       0.09375   , 0.55882353, 0.59459459, 0.3255814 , 0.32258065,\n",
       "       0.05      , 0.75      , 0.36111111, 0.48387097, 0.18181818,\n",
       "       0.2       , 0.53846154, 0.47368421, 0.87878788, 0.10526316,\n",
       "       0.35714286, 0.45714286, 0.76923077, 0.16666667, 0.47619048,\n",
       "       0.34375   , 0.23684211, 0.23809524, 0.12903226, 0.13157895,\n",
       "       0.86111111, 0.15789474, 0.2972973 , 0.28205128, 0.3902439 ,\n",
       "       0.43589744, 0.1       , 0.06060606, 0.83333333, 0.46511628,\n",
       "       0.28571429, 0.0952381 , 0.57894737, 0.30555556, 0.54761905,\n",
       "       0.29032258, 0.35714286, 0.025     , 0.33333333, 0.02941176,\n",
       "       0.15151515, 0.675     , 0.4137931 , 0.8       , 0.10526316,\n",
       "       0.03225806, 0.15384615, 0.29411765, 0.5       , 0.37142857,\n",
       "       0.03225806, 0.03125   , 0.70588235, 0.11111111, 0.21276596,\n",
       "       0.05882353, 0.34146341, 0.37209302, 0.11627907, 0.45238095,\n",
       "       0.15      , 0.69230769, 0.05128205, 0.38235294, 0.2       ,\n",
       "       0.07317073, 0.2       , 0.52272727, 0.51111111, 0.23076923,\n",
       "       0.22857143, 0.06521739, 0.23333333, 0.25641026, 0.35135135,\n",
       "       0.33333333, 0.75757576, 0.02941176, 0.51282051, 0.13953488,\n",
       "       0.02564103, 0.325     , 0.24242424, 0.35294118, 0.25641026,\n",
       "       0.34146341, 0.60526316, 0.55      , 0.36666667, 0.63636364,\n",
       "       0.73529412, 0.5       , 0.43589744, 0.23684211, 0.51428571,\n",
       "       0.76086957, 0.25      , 0.28125   , 0.71111111, 0.42105263,\n",
       "       0.17777778, 0.22857143, 0.10526316, 0.07894737, 0.21875   ,\n",
       "       0.43243243, 0.71052632, 0.12903226, 0.04081633, 0.02325581,\n",
       "       0.19047619, 0.33333333, 0.58333333, 0.31428571, 0.17948718,\n",
       "       0.44444444, 0.4893617 , 0.15      , 0.34375   , 0.57142857,\n",
       "       0.15151515, 0.23333333, 0.72727273, 0.15625   , 0.10344828,\n",
       "       0.4       , 0.19354839, 0.30769231, 0.28571429, 0.13157895,\n",
       "       0.02564103, 0.41025641, 0.32258065, 0.86486486, 0.73684211,\n",
       "       0.16666667, 0.48571429, 0.40909091, 0.44117647, 0.07317073,\n",
       "       0.30555556, 0.43902439, 0.34285714, 0.8974359 , 0.31707317,\n",
       "       0.58695652, 0.64516129, 0.16216216, 0.        , 0.21875   ,\n",
       "       0.29032258, 0.        , 0.05714286, 0.06060606, 0.46153846,\n",
       "       0.79487179, 0.42105263, 0.24242424, 0.68965517, 0.46938776,\n",
       "       0.28571429, 0.375     , 0.2       , 0.25714286, 0.45945946,\n",
       "       0.97222222, 0.0625    , 0.29545455, 0.875     , 0.1025641 ,\n",
       "       0.61290323, 0.32258065, 0.23913043, 0.18181818, 0.84848485,\n",
       "       0.225     , 0.05405405, 0.125     , 0.25581395, 0.21212121,\n",
       "       0.91666667, 0.125     , 0.16216216, 0.38235294, 0.1627907 ,\n",
       "       0.05882353, 0.31034483, 0.88888889, 0.48571429, 0.55263158,\n",
       "       0.46341463, 0.41463415, 0.27272727, 0.        , 0.05405405,\n",
       "       0.5625    , 0.3030303 , 0.83333333, 0.58823529, 0.26666667,\n",
       "       0.12121212, 0.31428571, 0.27906977, 0.8       , 0.425     ,\n",
       "       0.33333333, 0.61290323, 0.97674419, 0.85294118, 0.28571429,\n",
       "       0.28571429, 0.40909091, 0.8125    , 0.07894737, 0.28571429,\n",
       "       0.25      , 0.18181818, 0.21052632, 0.55      , 0.88888889,\n",
       "       0.53488372, 0.09756098, 0.63636364, 0.72727273, 0.17073171,\n",
       "       0.6969697 , 0.25      , 0.14285714, 0.09677419, 0.36585366,\n",
       "       0.12121212, 0.6       , 0.33333333, 0.27906977, 0.58536585,\n",
       "       0.33333333, 0.13513514, 0.21875   , 0.36111111, 0.45945946,\n",
       "       0.73170732, 0.70731707, 0.78947368, 0.16666667, 0.09756098,\n",
       "       0.43243243, 0.3255814 , 1.        , 0.125     , 0.6       ,\n",
       "       0.51515152, 0.77777778, 0.28205128, 0.6       , 0.28125   ,\n",
       "       0.44117647, 0.90243902, 0.77272727, 0.575     , 0.74358974,\n",
       "       0.87096774, 0.63414634, 0.775     , 0.02702703, 0.56097561,\n",
       "       0.31428571, 0.51612903, 0.36363636, 0.53488372, 0.80952381,\n",
       "       0.35714286, 0.15789474, 0.48648649, 0.45238095, 0.        ,\n",
       "       0.84444444, 0.07317073, 0.275     , 0.58333333, 0.91428571,\n",
       "       0.7037037 , 0.28205128, 0.975     , 0.42857143, 0.65      ,\n",
       "       0.12820513, 0.89189189, 0.85      , 0.07692308, 0.2       ,\n",
       "       0.9       , 0.57777778, 0.46153846, 0.55263158, 0.70454545,\n",
       "       0.17647059, 0.25714286, 0.48484848, 0.95      , 0.45945946,\n",
       "       0.09090909, 0.36842105, 0.43589744, 0.44117647, 0.47058824,\n",
       "       0.14814815, 0.88095238, 0.55263158, 0.625     , 0.69230769,\n",
       "       0.13513514, 0.54285714, 0.28947368, 0.03225806, 0.62857143,\n",
       "       0.35135135, 0.84444444, 0.28125   , 0.57575758, 0.68571429,\n",
       "       0.73684211, 0.22857143, 0.39130435, 0.91666667, 0.35135135,\n",
       "       0.82857143, 0.15789474, 0.65853659, 0.11111111, 0.41666667,\n",
       "       0.6       , 0.96551724, 0.61538462, 0.59459459, 0.04761905,\n",
       "       0.54761905, 0.32258065, 0.28125   , 0.40740741, 0.4       ,\n",
       "       0.81578947, 0.        , 0.25714286, 0.72222222, 0.58139535,\n",
       "       0.525     , 0.37777778, 0.58333333, 0.52777778, 0.52941176,\n",
       "       0.25581395, 0.15      , 0.16666667, 0.47368421, 0.08108108,\n",
       "       0.38709677, 0.16666667, 0.97058824, 0.16666667, 0.11764706,\n",
       "       0.025     , 0.        , 1.        , 0.03448276, 0.52631579,\n",
       "       0.17857143, 0.46875   , 0.68571429, 0.86486486, 0.47826087,\n",
       "       0.05263158, 0.0952381 , 0.575     , 0.36363636, 0.52631579,\n",
       "       0.05714286, 0.63888889, 0.73333333, 0.23529412, 0.17021277,\n",
       "       0.63888889, 0.125     , 0.43333333, 0.08823529, 0.92307692,\n",
       "       0.86111111, 0.23529412, 0.6875    , 0.65714286, 0.54054054,\n",
       "       0.51219512, 0.23684211, 0.34210526, 0.37837838, 0.08333333,\n",
       "       0.89655172, 0.87179487, 0.65789474, 0.75757576, 0.33333333,\n",
       "       0.86363636, 0.45454545, 0.74285714, 0.6       , 0.25      ,\n",
       "       0.05405405, 0.10526316, 0.51428571, 0.37142857, 0.2       ,\n",
       "       0.29268293, 0.05555556, 0.3125    , 0.65      , 0.15384615,\n",
       "       0.        , 0.03225806, 0.325     , 0.10714286, 0.93023256,\n",
       "       0.        , 0.07142857, 0.35897436, 0.47058824, 0.21428571,\n",
       "       0.47058824, 0.53846154, 0.03448276, 0.33333333, 0.83870968,\n",
       "       0.07317073, 0.02564103, 0.30232558, 0.05      , 0.73913043,\n",
       "       0.07142857, 0.92307692, 0.25806452, 0.05555556, 0.53846154,\n",
       "       0.11764706, 0.18421053, 0.34883721, 0.23076923, 0.02857143,\n",
       "       0.        , 0.84375   , 0.05882353, 0.88372093, 0.26470588,\n",
       "       0.05      , 0.20930233, 0.05882353, 0.28125   , 0.65      ,\n",
       "       0.875     , 0.56666667, 0.42857143, 0.22222222, 0.56097561,\n",
       "       0.        , 0.03448276, 0.84782609, 0.90625   , 0.39473684,\n",
       "       0.23684211, 0.4375    , 0.25      , 0.5       , 0.375     ,\n",
       "       0.95348837, 0.08823529, 0.        , 0.75      , 0.        ,\n",
       "       0.03571429, 0.74418605, 0.48      , 0.29545455, 0.81818182,\n",
       "       0.94444444, 0.        , 0.32432432, 0.23684211, 0.02941176,\n",
       "       0.91891892, 0.75862069, 0.86956522, 0.03225806, 0.90697674,\n",
       "       0.78947368, 0.04081633, 0.02325581, 0.56818182, 0.86486486,\n",
       "       0.17241379, 0.83783784, 0.37837838, 0.46153846, 0.81818182,\n",
       "       0.78125   , 0.78125   , 0.3       , 0.18918919, 0.16666667,\n",
       "       0.06976744, 0.5       , 0.64864865, 0.88372093, 0.02631579,\n",
       "       0.5       , 0.16666667, 0.81395349, 0.025     , 0.02941176,\n",
       "       0.44444444, 0.06521739, 0.54054054, 0.16666667, 0.14705882,\n",
       "       0.4375    , 0.68571429, 0.81818182, 0.16216216, 0.36      ,\n",
       "       0.11111111, 0.54285714, 0.91891892, 0.36585366, 0.10810811,\n",
       "       0.66666667, 0.79487179, 0.25925926, 0.61290323, 0.11627907,\n",
       "       0.94736842, 0.4375    , 0.47826087, 0.05405405, 0.        ,\n",
       "       0.        , 0.81081081, 0.        , 0.52941176, 0.72972973,\n",
       "       0.21052632, 0.19512195, 0.04347826, 0.03125   , 0.85294118,\n",
       "       0.75      , 0.        , 0.48387097, 0.02777778, 0.67567568,\n",
       "       0.51351351, 0.        , 0.82142857, 0.6       , 0.76923077,\n",
       "       0.1025641 , 0.        , 0.        , 0.43243243, 0.        ,\n",
       "       0.74193548, 0.16216216, 0.14705882, 0.95555556, 0.5       ,\n",
       "       0.24324324, 0.89473684, 0.38235294, 0.06818182, 0.17073171,\n",
       "       0.37037037, 0.41935484, 0.72972973, 0.        , 0.51515152,\n",
       "       0.11111111, 0.        , 0.8125    , 0.16666667, 0.05      ,\n",
       "       0.33333333, 0.48387097, 0.75      , 0.07142857, 0.25641026,\n",
       "       0.13953488, 0.84615385, 0.16666667, 0.68181818, 0.9       ,\n",
       "       0.88888889, 0.        , 0.11627907, 0.28205128, 0.12121212,\n",
       "       0.125     , 0.7       , 0.06818182, 0.02777778, 0.34375   ,\n",
       "       0.25806452, 0.02564103, 0.41935484, 0.23255814, 0.82926829,\n",
       "       0.54054054, 0.        , 0.59090909, 0.04347826, 0.02777778,\n",
       "       0.4       , 0.2195122 , 0.29268293, 0.        , 0.5       ,\n",
       "       0.25641026, 0.97222222, 0.47619048, 0.55882353, 0.15625   ,\n",
       "       0.11111111, 0.02222222, 0.        , 0.11764706, 0.72727273,\n",
       "       0.075     , 0.79411765, 0.15      , 0.04166667, 0.5       ,\n",
       "       0.70454545, 0.09375   , 0.46153846, 0.13513514, 0.96666667,\n",
       "       0.75      , 0.89473684, 0.71428571, 0.27777778, 0.35897436,\n",
       "       0.26470588, 0.0625    , 0.16129032, 0.91891892, 0.17142857,\n",
       "       0.5       , 0.73333333, 0.57894737, 0.35      , 0.15384615,\n",
       "       0.4       , 0.05882353, 0.51851852, 0.84615385, 0.25641026,\n",
       "       0.46511628, 0.95      , 0.68571429, 0.07142857, 0.17391304,\n",
       "       0.25581395, 0.72222222, 0.08823529, 0.18604651, 0.13157895,\n",
       "       0.85416667, 0.23809524, 0.53846154, 0.16666667, 0.5       ,\n",
       "       0.09090909, 0.40540541, 0.21621622, 0.58333333, 0.4       ,\n",
       "       0.6744186 , 0.53846154, 0.11111111, 0.07142857, 0.07407407,\n",
       "       0.025     , 0.125     , 0.8       , 0.02272727, 0.03571429,\n",
       "       0.3125    , 0.90909091, 0.6       , 0.03125   , 0.05      ,\n",
       "       0.60526316, 0.41666667, 0.09756098, 0.8       , 0.18421053,\n",
       "       0.97619048, 0.86486486, 0.13793103, 0.        , 0.5       ,\n",
       "       0.78787879, 0.24324324, 0.19047619, 0.05      , 0.73684211,\n",
       "       0.02941176, 0.05714286, 0.19444444, 0.84375   , 0.33333333,\n",
       "       0.74285714, 0.35294118, 0.        , 0.125     , 0.15151515,\n",
       "       0.03703704, 0.14285714, 0.35714286, 0.09302326, 0.30555556,\n",
       "       0.25      , 0.12121212, 0.64102564, 0.55882353, 0.75      ,\n",
       "       0.75      , 0.5       , 0.87179487, 0.17241379, 0.17948718,\n",
       "       0.34090909, 0.22857143, 0.02631579, 0.65116279, 0.83783784,\n",
       "       0.11764706, 0.64516129, 0.03030303, 0.65      , 0.03571429,\n",
       "       0.11111111, 0.62790698, 0.21052632, 0.        , 0.13157895,\n",
       "       0.14634146, 0.25714286, 0.87096774, 0.55172414, 0.08571429,\n",
       "       0.17948718, 0.02941176, 0.24324324, 0.17857143, 0.55813953,\n",
       "       0.18421053, 0.15909091, 0.11627907, 0.20588235, 0.09090909,\n",
       "       0.02564103, 0.05263158, 0.64516129, 0.04545455, 0.02702703,\n",
       "       0.71428571, 0.1       , 0.02439024, 0.56756757, 0.1875    ,\n",
       "       0.27777778, 0.84615385, 0.73170732, 0.03571429, 0.7027027 ,\n",
       "       0.20512821, 0.97297297, 0.17647059, 0.125     , 0.20588235,\n",
       "       0.97560976, 0.02564103, 0.07142857, 0.32352941, 0.625     ,\n",
       "       0.08333333, 0.36842105, 0.61764706, 0.0625    , 0.13888889,\n",
       "       0.02941176, 0.02631579, 0.10344828, 0.76190476, 0.83783784,\n",
       "       0.2       , 0.16666667, 0.86111111, 0.71428571, 0.75      ,\n",
       "       0.25      , 0.76923077, 0.68421053, 0.41463415, 0.13333333,\n",
       "       0.30952381, 0.48648649, 0.80645161, 0.02564103, 0.26190476,\n",
       "       0.11111111, 0.42857143, 0.75609756, 0.13636364, 0.72727273,\n",
       "       0.        , 0.7027027 , 0.1025641 , 0.34285714, 0.52777778,\n",
       "       0.525     , 0.17948718, 0.        , 0.04545455, 0.74358974,\n",
       "       0.59375   , 0.0952381 , 0.06666667, 0.33333333, 0.27586207,\n",
       "       0.12121212, 0.55813953, 0.76470588, 0.36842105, 0.90625   ,\n",
       "       0.26190476])"
      ]
     },
     "execution_count": 9,
     "metadata": {},
     "output_type": "execute_result"
    }
   ],
   "source": [
    "y_oob"
   ]
  },
  {
   "cell_type": "markdown",
   "metadata": {},
   "source": [
    "Now, we are going to look at the categorical values."
   ]
  },
  {
   "cell_type": "code",
   "execution_count": 10,
   "metadata": {},
   "outputs": [],
   "source": [
    "def describe_categorical(X):\n",
    "    from IPython.display import display, HTML\n",
    "    display(HTML (X[X.columns[X.dtypes == \"object\"]].describe().to_html()))"
   ]
  },
  {
   "cell_type": "code",
   "execution_count": 11,
   "metadata": {},
   "outputs": [
    {
     "data": {
      "text/html": [
       "<table border=\"1\" class=\"dataframe\">\n",
       "  <thead>\n",
       "    <tr style=\"text-align: right;\">\n",
       "      <th></th>\n",
       "      <th>Name</th>\n",
       "      <th>Sex</th>\n",
       "      <th>Ticket</th>\n",
       "      <th>Cabin</th>\n",
       "      <th>Embarked</th>\n",
       "    </tr>\n",
       "  </thead>\n",
       "  <tbody>\n",
       "    <tr>\n",
       "      <th>count</th>\n",
       "      <td>891</td>\n",
       "      <td>891</td>\n",
       "      <td>891</td>\n",
       "      <td>204</td>\n",
       "      <td>889</td>\n",
       "    </tr>\n",
       "    <tr>\n",
       "      <th>unique</th>\n",
       "      <td>891</td>\n",
       "      <td>2</td>\n",
       "      <td>681</td>\n",
       "      <td>147</td>\n",
       "      <td>3</td>\n",
       "    </tr>\n",
       "    <tr>\n",
       "      <th>top</th>\n",
       "      <td>Braund, Mr. Owen Harris</td>\n",
       "      <td>male</td>\n",
       "      <td>347082</td>\n",
       "      <td>B96 B98</td>\n",
       "      <td>S</td>\n",
       "    </tr>\n",
       "    <tr>\n",
       "      <th>freq</th>\n",
       "      <td>1</td>\n",
       "      <td>577</td>\n",
       "      <td>7</td>\n",
       "      <td>4</td>\n",
       "      <td>644</td>\n",
       "    </tr>\n",
       "  </tbody>\n",
       "</table>"
      ],
      "text/plain": [
       "<IPython.core.display.HTML object>"
      ]
     },
     "metadata": {},
     "output_type": "display_data"
    }
   ],
   "source": [
    "describe_categorical(X)"
   ]
  },
  {
   "cell_type": "markdown",
   "metadata": {},
   "source": [
    "We drop the name, ticket and passengerID because these aren't very usefull."
   ]
  },
  {
   "cell_type": "code",
   "execution_count": 12,
   "metadata": {},
   "outputs": [],
   "source": [
    "X.drop([\"Name\", \"Ticket\", \"PassengerId\"], axis=1, inplace=True)"
   ]
  },
  {
   "cell_type": "markdown",
   "metadata": {},
   "source": [
    "For the values missing from Cabin, we put ‘None’."
   ]
  },
  {
   "cell_type": "code",
   "execution_count": 13,
   "metadata": {},
   "outputs": [],
   "source": [
    "def clean_cabin(x):\n",
    "    try:\n",
    "        return x[0]\n",
    "    except TypeError:\n",
    "        return \"None\"\n",
    "    \n",
    "X[\"Cabin\"] = X.Cabin.apply(clean_cabin)"
   ]
  },
  {
   "cell_type": "code",
   "execution_count": 14,
   "metadata": {},
   "outputs": [
    {
     "data": {
      "text/plain": [
       "0      None\n",
       "1         C\n",
       "2      None\n",
       "3         C\n",
       "4      None\n",
       "       ... \n",
       "886    None\n",
       "887       B\n",
       "888    None\n",
       "889       C\n",
       "890    None\n",
       "Name: Cabin, Length: 891, dtype: object"
      ]
     },
     "execution_count": 14,
     "metadata": {},
     "output_type": "execute_result"
    }
   ],
   "source": [
    "X.Cabin"
   ]
  },
  {
   "cell_type": "markdown",
   "metadata": {},
   "source": [
    "Next, we process the categorical variables. Preparing them by handling missing values and converting them into numerical form using one-hot encoding."
   ]
  },
  {
   "cell_type": "code",
   "execution_count": 15,
   "metadata": {},
   "outputs": [],
   "source": [
    "categorical_variables = ['Sex', 'Cabin', 'Embarked']\n",
    "\n",
    "for variable in categorical_variables:\n",
    "    X[variable].fillna(\"Missing\", inplace=True)\n",
    "    dummies = pd.get_dummies(X[variable], prefix=variable)\n",
    "    X = pd.concat([X, dummies], axis=1)\n",
    "    X.drop([variable], axis=1, inplace=True)"
   ]
  },
  {
   "cell_type": "code",
   "execution_count": 16,
   "metadata": {},
   "outputs": [
    {
     "data": {
      "text/html": [
       "<div>\n",
       "<style scoped>\n",
       "    .dataframe tbody tr th:only-of-type {\n",
       "        vertical-align: middle;\n",
       "    }\n",
       "\n",
       "    .dataframe tbody tr th {\n",
       "        vertical-align: top;\n",
       "    }\n",
       "\n",
       "    .dataframe thead th {\n",
       "        text-align: right;\n",
       "    }\n",
       "</style>\n",
       "<table border=\"1\" class=\"dataframe\">\n",
       "  <thead>\n",
       "    <tr style=\"text-align: right;\">\n",
       "      <th></th>\n",
       "      <th>Pclass</th>\n",
       "      <th>Age</th>\n",
       "      <th>SibSp</th>\n",
       "      <th>Parch</th>\n",
       "      <th>Fare</th>\n",
       "      <th>Sex_female</th>\n",
       "      <th>Sex_male</th>\n",
       "      <th>Cabin_A</th>\n",
       "      <th>Cabin_B</th>\n",
       "      <th>Cabin_C</th>\n",
       "      <th>Cabin_D</th>\n",
       "      <th>Cabin_E</th>\n",
       "      <th>Cabin_F</th>\n",
       "      <th>Cabin_G</th>\n",
       "      <th>Cabin_None</th>\n",
       "      <th>Cabin_T</th>\n",
       "      <th>Embarked_C</th>\n",
       "      <th>Embarked_Missing</th>\n",
       "      <th>Embarked_Q</th>\n",
       "      <th>Embarked_S</th>\n",
       "    </tr>\n",
       "  </thead>\n",
       "  <tbody>\n",
       "    <tr>\n",
       "      <th>0</th>\n",
       "      <td>3</td>\n",
       "      <td>22.000000</td>\n",
       "      <td>1</td>\n",
       "      <td>0</td>\n",
       "      <td>7.2500</td>\n",
       "      <td>False</td>\n",
       "      <td>True</td>\n",
       "      <td>False</td>\n",
       "      <td>False</td>\n",
       "      <td>False</td>\n",
       "      <td>False</td>\n",
       "      <td>False</td>\n",
       "      <td>False</td>\n",
       "      <td>False</td>\n",
       "      <td>True</td>\n",
       "      <td>False</td>\n",
       "      <td>False</td>\n",
       "      <td>False</td>\n",
       "      <td>False</td>\n",
       "      <td>True</td>\n",
       "    </tr>\n",
       "    <tr>\n",
       "      <th>1</th>\n",
       "      <td>1</td>\n",
       "      <td>38.000000</td>\n",
       "      <td>1</td>\n",
       "      <td>0</td>\n",
       "      <td>71.2833</td>\n",
       "      <td>True</td>\n",
       "      <td>False</td>\n",
       "      <td>False</td>\n",
       "      <td>False</td>\n",
       "      <td>True</td>\n",
       "      <td>False</td>\n",
       "      <td>False</td>\n",
       "      <td>False</td>\n",
       "      <td>False</td>\n",
       "      <td>False</td>\n",
       "      <td>False</td>\n",
       "      <td>True</td>\n",
       "      <td>False</td>\n",
       "      <td>False</td>\n",
       "      <td>False</td>\n",
       "    </tr>\n",
       "    <tr>\n",
       "      <th>2</th>\n",
       "      <td>3</td>\n",
       "      <td>26.000000</td>\n",
       "      <td>0</td>\n",
       "      <td>0</td>\n",
       "      <td>7.9250</td>\n",
       "      <td>True</td>\n",
       "      <td>False</td>\n",
       "      <td>False</td>\n",
       "      <td>False</td>\n",
       "      <td>False</td>\n",
       "      <td>False</td>\n",
       "      <td>False</td>\n",
       "      <td>False</td>\n",
       "      <td>False</td>\n",
       "      <td>True</td>\n",
       "      <td>False</td>\n",
       "      <td>False</td>\n",
       "      <td>False</td>\n",
       "      <td>False</td>\n",
       "      <td>True</td>\n",
       "    </tr>\n",
       "    <tr>\n",
       "      <th>3</th>\n",
       "      <td>1</td>\n",
       "      <td>35.000000</td>\n",
       "      <td>1</td>\n",
       "      <td>0</td>\n",
       "      <td>53.1000</td>\n",
       "      <td>True</td>\n",
       "      <td>False</td>\n",
       "      <td>False</td>\n",
       "      <td>False</td>\n",
       "      <td>True</td>\n",
       "      <td>False</td>\n",
       "      <td>False</td>\n",
       "      <td>False</td>\n",
       "      <td>False</td>\n",
       "      <td>False</td>\n",
       "      <td>False</td>\n",
       "      <td>False</td>\n",
       "      <td>False</td>\n",
       "      <td>False</td>\n",
       "      <td>True</td>\n",
       "    </tr>\n",
       "    <tr>\n",
       "      <th>4</th>\n",
       "      <td>3</td>\n",
       "      <td>35.000000</td>\n",
       "      <td>0</td>\n",
       "      <td>0</td>\n",
       "      <td>8.0500</td>\n",
       "      <td>False</td>\n",
       "      <td>True</td>\n",
       "      <td>False</td>\n",
       "      <td>False</td>\n",
       "      <td>False</td>\n",
       "      <td>False</td>\n",
       "      <td>False</td>\n",
       "      <td>False</td>\n",
       "      <td>False</td>\n",
       "      <td>True</td>\n",
       "      <td>False</td>\n",
       "      <td>False</td>\n",
       "      <td>False</td>\n",
       "      <td>False</td>\n",
       "      <td>True</td>\n",
       "    </tr>\n",
       "    <tr>\n",
       "      <th>...</th>\n",
       "      <td>...</td>\n",
       "      <td>...</td>\n",
       "      <td>...</td>\n",
       "      <td>...</td>\n",
       "      <td>...</td>\n",
       "      <td>...</td>\n",
       "      <td>...</td>\n",
       "      <td>...</td>\n",
       "      <td>...</td>\n",
       "      <td>...</td>\n",
       "      <td>...</td>\n",
       "      <td>...</td>\n",
       "      <td>...</td>\n",
       "      <td>...</td>\n",
       "      <td>...</td>\n",
       "      <td>...</td>\n",
       "      <td>...</td>\n",
       "      <td>...</td>\n",
       "      <td>...</td>\n",
       "      <td>...</td>\n",
       "    </tr>\n",
       "    <tr>\n",
       "      <th>886</th>\n",
       "      <td>2</td>\n",
       "      <td>27.000000</td>\n",
       "      <td>0</td>\n",
       "      <td>0</td>\n",
       "      <td>13.0000</td>\n",
       "      <td>False</td>\n",
       "      <td>True</td>\n",
       "      <td>False</td>\n",
       "      <td>False</td>\n",
       "      <td>False</td>\n",
       "      <td>False</td>\n",
       "      <td>False</td>\n",
       "      <td>False</td>\n",
       "      <td>False</td>\n",
       "      <td>True</td>\n",
       "      <td>False</td>\n",
       "      <td>False</td>\n",
       "      <td>False</td>\n",
       "      <td>False</td>\n",
       "      <td>True</td>\n",
       "    </tr>\n",
       "    <tr>\n",
       "      <th>887</th>\n",
       "      <td>1</td>\n",
       "      <td>19.000000</td>\n",
       "      <td>0</td>\n",
       "      <td>0</td>\n",
       "      <td>30.0000</td>\n",
       "      <td>True</td>\n",
       "      <td>False</td>\n",
       "      <td>False</td>\n",
       "      <td>True</td>\n",
       "      <td>False</td>\n",
       "      <td>False</td>\n",
       "      <td>False</td>\n",
       "      <td>False</td>\n",
       "      <td>False</td>\n",
       "      <td>False</td>\n",
       "      <td>False</td>\n",
       "      <td>False</td>\n",
       "      <td>False</td>\n",
       "      <td>False</td>\n",
       "      <td>True</td>\n",
       "    </tr>\n",
       "    <tr>\n",
       "      <th>888</th>\n",
       "      <td>3</td>\n",
       "      <td>29.699118</td>\n",
       "      <td>1</td>\n",
       "      <td>2</td>\n",
       "      <td>23.4500</td>\n",
       "      <td>True</td>\n",
       "      <td>False</td>\n",
       "      <td>False</td>\n",
       "      <td>False</td>\n",
       "      <td>False</td>\n",
       "      <td>False</td>\n",
       "      <td>False</td>\n",
       "      <td>False</td>\n",
       "      <td>False</td>\n",
       "      <td>True</td>\n",
       "      <td>False</td>\n",
       "      <td>False</td>\n",
       "      <td>False</td>\n",
       "      <td>False</td>\n",
       "      <td>True</td>\n",
       "    </tr>\n",
       "    <tr>\n",
       "      <th>889</th>\n",
       "      <td>1</td>\n",
       "      <td>26.000000</td>\n",
       "      <td>0</td>\n",
       "      <td>0</td>\n",
       "      <td>30.0000</td>\n",
       "      <td>False</td>\n",
       "      <td>True</td>\n",
       "      <td>False</td>\n",
       "      <td>False</td>\n",
       "      <td>True</td>\n",
       "      <td>False</td>\n",
       "      <td>False</td>\n",
       "      <td>False</td>\n",
       "      <td>False</td>\n",
       "      <td>False</td>\n",
       "      <td>False</td>\n",
       "      <td>True</td>\n",
       "      <td>False</td>\n",
       "      <td>False</td>\n",
       "      <td>False</td>\n",
       "    </tr>\n",
       "    <tr>\n",
       "      <th>890</th>\n",
       "      <td>3</td>\n",
       "      <td>32.000000</td>\n",
       "      <td>0</td>\n",
       "      <td>0</td>\n",
       "      <td>7.7500</td>\n",
       "      <td>False</td>\n",
       "      <td>True</td>\n",
       "      <td>False</td>\n",
       "      <td>False</td>\n",
       "      <td>False</td>\n",
       "      <td>False</td>\n",
       "      <td>False</td>\n",
       "      <td>False</td>\n",
       "      <td>False</td>\n",
       "      <td>True</td>\n",
       "      <td>False</td>\n",
       "      <td>False</td>\n",
       "      <td>False</td>\n",
       "      <td>True</td>\n",
       "      <td>False</td>\n",
       "    </tr>\n",
       "  </tbody>\n",
       "</table>\n",
       "<p>891 rows × 20 columns</p>\n",
       "</div>"
      ],
      "text/plain": [
       "     Pclass        Age  SibSp  Parch     Fare  Sex_female  Sex_male  Cabin_A  \\\n",
       "0         3  22.000000      1      0   7.2500       False      True    False   \n",
       "1         1  38.000000      1      0  71.2833        True     False    False   \n",
       "2         3  26.000000      0      0   7.9250        True     False    False   \n",
       "3         1  35.000000      1      0  53.1000        True     False    False   \n",
       "4         3  35.000000      0      0   8.0500       False      True    False   \n",
       "..      ...        ...    ...    ...      ...         ...       ...      ...   \n",
       "886       2  27.000000      0      0  13.0000       False      True    False   \n",
       "887       1  19.000000      0      0  30.0000        True     False    False   \n",
       "888       3  29.699118      1      2  23.4500        True     False    False   \n",
       "889       1  26.000000      0      0  30.0000       False      True    False   \n",
       "890       3  32.000000      0      0   7.7500       False      True    False   \n",
       "\n",
       "     Cabin_B  Cabin_C  Cabin_D  Cabin_E  Cabin_F  Cabin_G  Cabin_None  \\\n",
       "0      False    False    False    False    False    False        True   \n",
       "1      False     True    False    False    False    False       False   \n",
       "2      False    False    False    False    False    False        True   \n",
       "3      False     True    False    False    False    False       False   \n",
       "4      False    False    False    False    False    False        True   \n",
       "..       ...      ...      ...      ...      ...      ...         ...   \n",
       "886    False    False    False    False    False    False        True   \n",
       "887     True    False    False    False    False    False       False   \n",
       "888    False    False    False    False    False    False        True   \n",
       "889    False     True    False    False    False    False       False   \n",
       "890    False    False    False    False    False    False        True   \n",
       "\n",
       "     Cabin_T  Embarked_C  Embarked_Missing  Embarked_Q  Embarked_S  \n",
       "0      False       False             False       False        True  \n",
       "1      False        True             False       False       False  \n",
       "2      False       False             False       False        True  \n",
       "3      False       False             False       False        True  \n",
       "4      False       False             False       False        True  \n",
       "..       ...         ...               ...         ...         ...  \n",
       "886    False       False             False       False        True  \n",
       "887    False       False             False       False        True  \n",
       "888    False       False             False       False        True  \n",
       "889    False        True             False       False       False  \n",
       "890    False       False             False        True       False  \n",
       "\n",
       "[891 rows x 20 columns]"
      ]
     },
     "execution_count": 16,
     "metadata": {},
     "output_type": "execute_result"
    }
   ],
   "source": [
    "X"
   ]
  },
  {
   "cell_type": "markdown",
   "metadata": {},
   "source": [
    "Next, we train the model again."
   ]
  },
  {
   "cell_type": "code",
   "execution_count": null,
   "metadata": {},
   "outputs": [
    {
     "name": "stdout",
     "output_type": "stream",
     "text": [
      "ROC AUC score:  0.8616277335719382\n"
     ]
    }
   ],
   "source": [
    "model = RandomForestClassifier(100, oob_score=True, n_jobs=-1, random_state=42)\n",
    "model.fit(X,y)\n",
    "print(\"ROC-AUC score: \", roc_auc_score(y, model.oob_decision_function_[:, 1]))"
   ]
  },
  {
   "cell_type": "markdown",
   "metadata": {},
   "source": [
    "Now, including the categorical data, we arrive at an ROC-AUC score of 86%."
   ]
  },
  {
   "cell_type": "markdown",
   "metadata": {},
   "source": [
    "## Variable importance measures"
   ]
  },
  {
   "cell_type": "markdown",
   "metadata": {},
   "source": [
    "In this part, we will look at which features are most important."
   ]
  },
  {
   "cell_type": "code",
   "execution_count": 23,
   "metadata": {},
   "outputs": [
    {
     "data": {
      "text/plain": [
       "array([6.87750243e-02, 2.42365672e-01, 4.75931587e-02, 3.81037467e-02,\n",
       "       2.26719132e-01, 1.42455298e-01, 1.29163142e-01, 3.12468689e-03,\n",
       "       7.10846464e-03, 6.52347427e-03, 6.52026183e-03, 9.75728522e-03,\n",
       "       2.19673000e-03, 1.40178795e-03, 3.41299082e-02, 3.37554412e-04,\n",
       "       1.26315194e-02, 6.58198567e-05, 7.10852300e-03, 1.39188097e-02])"
      ]
     },
     "execution_count": 23,
     "metadata": {},
     "output_type": "execute_result"
    }
   ],
   "source": [
    "model.feature_importances_"
   ]
  },
  {
   "cell_type": "markdown",
   "metadata": {},
   "source": [
    "plot the features based on importance."
   ]
  },
  {
   "cell_type": "code",
   "execution_count": 24,
   "metadata": {},
   "outputs": [
    {
     "data": {
      "image/png": "[encoded data removed]",
      "text/plain": [
       "<Figure size 700x600 with 1 Axes>"
      ]
     },
     "metadata": {},
     "output_type": "display_data"
    }
   ],
   "source": [
    "feature_importances = pd.Series(model.feature_importances_, index=X.columns)\n",
    "feature_importances = feature_importances.sort_values(ascending=True)\n",
    "feature_importances.plot(kind=\"barh\", figsize=(7,6));"
   ]
  },
  {
   "cell_type": "markdown",
   "metadata": {},
   "source": [
    "We can see that Age and fare are important features. but in this chart, the features are split up. We will fix this."
   ]
  },
  {
   "cell_type": "code",
   "execution_count": 25,
   "metadata": {},
   "outputs": [
    {
     "data": {
      "image/png": "[encoded data removed]",
      "text/plain": [
       "<Figure size 1000x200 with 1 Axes>"
      ]
     },
     "metadata": {},
     "output_type": "display_data"
    }
   ],
   "source": [
    "def graph_feature_importances(model, feature_names, autoscale=True, headroom=0.05, width=10, summarized_columns=None):\n",
    "    if autoscale:\n",
    "        x_scale = model.feature_importances_.max() + headroom\n",
    "    else:\n",
    "        x_scale = 1\n",
    "\n",
    "    feature_dict=dict(zip(feature_names, model.feature_importances_))\n",
    "\n",
    "    if summarized_columns:\n",
    "        for col_name in summarized_columns:\n",
    "            sum_value = sum(x for i, x in feature_dict.items() if col_name in i)\n",
    "\n",
    "            keys_to_remove = [i for i in feature_dict.keys() if col_name in i]\n",
    "            for i in keys_to_remove:\n",
    "                feature_dict.pop(i)\n",
    "            feature_dict[col_name] = sum_value\n",
    "\n",
    "    results = pd.Series(feature_dict.values(), index=feature_dict.keys())\n",
    "    results = results.sort_values(ascending=True)\n",
    "    results.plot(kind=\"barh\", figsize=(width, len(results)/4), xlim=(0, x_scale))\n",
    "\n",
    "graph_feature_importances(model, X.columns, summarized_columns=categorical_variables)"
   ]
  },
  {
   "cell_type": "markdown",
   "metadata": {},
   "source": [
    "This chart shows that sex, age and fare are the most important features."
   ]
  },
  {
   "cell_type": "markdown",
   "metadata": {},
   "source": [
    "## Parameter tests"
   ]
  },
  {
   "cell_type": "markdown",
   "metadata": {},
   "source": [
    "it part, we are going to look for the best parameter settings."
   ]
  },
  {
   "cell_type": "markdown",
   "metadata": {},
   "source": [
    "### n_jobs"
   ]
  },
  {
   "cell_type": "code",
   "execution_count": 26,
   "metadata": {},
   "outputs": [
    {
     "name": "stdout",
     "output_type": "stream",
     "text": [
      "2.1 s ± 23.3 ms per loop (mean ± std. dev. of 7 runs, 1 loop each)\n"
     ]
    }
   ],
   "source": [
    "%%timeit\n",
    "model = RandomForestClassifier(1000, oob_score=True, n_jobs=1, random_state=42)\n",
    "model.fit(X,y)"
   ]
  },
  {
   "cell_type": "code",
   "execution_count": 27,
   "metadata": {},
   "outputs": [
    {
     "name": "stdout",
     "output_type": "stream",
     "text": [
      "1.8 s ± 18.7 ms per loop (mean ± std. dev. of 7 runs, 1 loop each)\n"
     ]
    }
   ],
   "source": [
    "%%timeit\n",
    "model = RandomForestClassifier(1000, oob_score=True, n_jobs=-1, random_state=42)\n",
    "model.fit(X,y)"
   ]
  },
  {
   "cell_type": "markdown",
   "metadata": {},
   "source": [
    "The -1 setting gives the fastest time per loop."
   ]
  },
  {
   "cell_type": "markdown",
   "metadata": {},
   "source": [
    "### n_estimators"
   ]
  },
  {
   "cell_type": "code",
   "execution_count": 53,
   "metadata": {},
   "outputs": [
    {
     "name": "stdout",
     "output_type": "stream",
     "text": [
      "30 trees\n",
      "ROC-AUC score:  0.8553909820087561\n",
      " \n",
      "50 trees\n",
      "ROC-AUC score:  0.858669137932871\n",
      " \n",
      "100 trees\n",
      "ROC-AUC score:  0.8616277335719382\n",
      " \n",
      "200 trees\n",
      "ROC-AUC score:  0.8622988101705388\n",
      " \n",
      "1000 trees\n",
      "ROC-AUC score:  0.8633480331064455\n",
      " \n",
      "2000 trees\n",
      "ROC-AUC score:  0.8637634614770077\n",
      " \n",
      "3000 trees\n",
      "ROC-AUC score:  0.8634758572204646\n",
      " \n"
     ]
    },
    {
     "data": {
      "image/png": "[encoded data removed]",
      "text/plain": [
       "<Figure size 640x480 with 1 Axes>"
      ]
     },
     "metadata": {},
     "output_type": "display_data"
    }
   ],
   "source": [
    "results = []\n",
    "n_estimator_options = [30, 50, 100, 200, 1000, 2000, 3000]\n",
    "\n",
    "for trees in n_estimator_options:\n",
    "    model = RandomForestClassifier(trees, oob_score=True, n_jobs=-1, random_state=42)\n",
    "    model.fit(X, y)\n",
    "    print(trees, \"trees\")\n",
    "    roc = roc_auc_score(y, model.oob_decision_function_[:, 1])\n",
    "    print(\"ROC-AUC score: \", roc)\n",
    "    results.append(roc)\n",
    "    print(\" \")\n",
    "\n",
    "pd.Series(results, n_estimator_options).plot();"
   ]
  },
  {
   "cell_type": "markdown",
   "metadata": {},
   "source": [
    "Among 2000 estimators, the ROC-AUC score is the highest."
   ]
  },
  {
   "cell_type": "markdown",
   "metadata": {},
   "source": [
    "### max_features"
   ]
  },
  {
   "cell_type": "code",
   "execution_count": 54,
   "metadata": {},
   "outputs": [
    {
     "name": "stdout",
     "output_type": "stream",
     "text": [
      "None option\n",
      "ROC-AUC score:  0.8641336188071879\n",
      "\n",
      "sqrt option\n",
      "ROC-AUC score:  0.8633480331064455\n",
      "\n",
      "log2 option\n",
      "ROC-AUC score:  0.8633480331064455\n",
      "\n",
      "0.9 option\n",
      "ROC-AUC score:  0.8635823773154806\n",
      "\n",
      "0.2 option\n",
      "ROC-AUC score:  0.8633480331064455\n",
      "\n"
     ]
    },
    {
     "data": {
      "text/plain": [
       "<Axes: >"
      ]
     },
     "execution_count": 54,
     "metadata": {},
     "output_type": "execute_result"
    },
    {
     "data": {
      "image/png": "[encoded data removed]",
      "text/plain": [
       "<Figure size 800x600 with 1 Axes>"
      ]
     },
     "metadata": {},
     "output_type": "display_data"
    }
   ],
   "source": [
    "results = []\n",
    "max_features_options = [None, \"sqrt\", \"log2\", 0.9, 0.2] # \"auto\" stond op de eeste plaats\n",
    "\n",
    "for max_features in max_features_options:\n",
    "    model = RandomForestClassifier(n_estimators=1000, oob_score=True, n_jobs=-1, random_state=42, max_features=max_features)\n",
    "    model.fit(X, y)\n",
    "    print( max_features, \"option\")\n",
    "    roc = roc_auc_score(y, model.oob_decision_function_[:, 1])\n",
    "    print(\"ROC-AUC score: \", roc)\n",
    "    results.append(roc)\n",
    "    print(\"\")\n",
    "\n",
    "\n",
    "\n",
    "results_series = pd.Series(results, index=max_features_options)\n",
    "results_series = results_series.sort_values(ascending=True)\n",
    "results_series.plot(kind=\"barh\", xlim=(0.85, 0.88), figsize=(8, 6))"
   ]
  },
  {
   "cell_type": "markdown",
   "metadata": {},
   "source": [
    "With max_features=None, the ROC-AUC score is the highest."
   ]
  },
  {
   "cell_type": "markdown",
   "metadata": {},
   "source": [
    "### min_samples_leaf"
   ]
  },
  {
   "cell_type": "code",
   "execution_count": 55,
   "metadata": {},
   "outputs": [
    {
     "name": "stdout",
     "output_type": "stream",
     "text": [
      "1 min samples\n",
      "ROC-AUC score:  0.8641336188071879\n",
      "\n",
      "2 min samples\n",
      "ROC-AUC score:  0.8697099457812716\n",
      "\n",
      "3 min samples\n",
      "ROC-AUC score:  0.8715607324321735\n",
      "\n",
      "4 min samples\n",
      "ROC-AUC score:  0.8734674421329585\n",
      "\n",
      "5 min samples\n",
      "ROC-AUC score:  0.8742423758241993\n",
      "\n",
      "6 min samples\n",
      "ROC-AUC score:  0.8740240096294166\n",
      "\n",
      "7 min samples\n",
      "ROC-AUC score:  0.8732677169548035\n",
      "\n",
      "8 min samples\n",
      "ROC-AUC score:  0.8718296956720885\n",
      "\n",
      "9 min samples\n",
      "ROC-AUC score:  0.8692625613822048\n",
      "\n",
      "10 min samples\n",
      "ROC-AUC score:  0.8674250897431801\n",
      "\n"
     ]
    },
    {
     "data": {
      "image/png": "[encoded data removed]",
      "text/plain": [
       "<Figure size 640x480 with 1 Axes>"
      ]
     },
     "metadata": {},
     "output_type": "display_data"
    }
   ],
   "source": [
    "results = []\n",
    "min_samples_leaf_options = [1, 2, 3, 4, 5, 6, 7, 8, 9, 10]\n",
    "\n",
    "for min_samples in min_samples_leaf_options:\n",
    "    model = RandomForestClassifier(n_estimators=1000,\n",
    "    oob_score=True, n_jobs=-1, random_state=42, max_features=None, min_samples_leaf=min_samples)\n",
    "\n",
    "    model.fit(X,y)\n",
    "    print(min_samples, \"min samples\")\n",
    "    roc = roc_auc_score(y, model.oob_decision_function_[:, 1])\n",
    "    print(\"ROC-AUC score: \", roc)\n",
    "    results.append(roc)\n",
    "    print(\"\")\n",
    "\n",
    "pd.Series(results, min_samples_leaf_options).plot();"
   ]
  },
  {
   "cell_type": "markdown",
   "metadata": {},
   "source": [
    "A min_samples_leaf of 5 gives the highest ROC-AUC score."
   ]
  },
  {
   "cell_type": "markdown",
   "metadata": {},
   "source": [
    "### Final model"
   ]
  },
  {
   "cell_type": "markdown",
   "metadata": {},
   "source": [
    "Combine the best parameter options in the model. (I left the n_stimators on 1000 because this gives me the best result. It also had a big impact on the other parameters.)"
   ]
  },
  {
   "cell_type": "code",
   "execution_count": null,
   "metadata": {},
   "outputs": [
    {
     "name": "stdout",
     "output_type": "stream",
     "text": [
      "ROC-AUC score: 0.8742423758241993\n"
     ]
    }
   ],
   "source": [
    "model = RandomForestClassifier(n_estimators=1000, oob_score=True, n_jobs=-1, random_state=42, max_features=None, min_samples_leaf=5) #min_sample_leaf defines the minimum number of samples required to be in a leaf node of a decision tree.\n",
    "model.fit(X,y)\n",
    "roc = roc_auc_score(y, model.oob_decision_function_[:, 1])\n",
    "print(\"ROC-AUC score:\", roc)"
   ]
  },
  {
   "cell_type": "markdown",
   "metadata": {},
   "source": [
    "Now that we have applied the best parameter settings to the model, we obtain an ROC-AUC score of 87%."
   ]
  },
  {
   "cell_type": "markdown",
   "metadata": {},
   "source": [
    "# Predicting"
   ]
  },
  {
   "cell_type": "code",
   "execution_count": null,
   "metadata": {},
   "outputs": [],
   "source": [
    "import pandas as pd\n",
    "import seaborn as sns\n",
    "import matplotlib.pyplot as plt\n",
    "from sklearn.ensemble import RandomForestClassifier\n",
    "from sklearn.model_selection import train_test_split\n",
    "from sklearn.metrics import accuracy_score\n",
    "from sklearn.metrics import roc_curve, roc_auc_score\n",
    "from sklearn.metrics import confusion_matrix"
   ]
  },
  {
   "cell_type": "markdown",
   "metadata": {},
   "source": [
    "Next we split the dataset into X_train, X_test, y_train, y_test. We train the model and predict on the y_test."
   ]
  },
  {
   "cell_type": "code",
   "execution_count": 61,
   "metadata": {},
   "outputs": [
    {
     "name": "stdout",
     "output_type": "stream",
     "text": [
      "Accuracy:  0.888268156424581\n"
     ]
    }
   ],
   "source": [
    "X_train, X_test, y_train, y_test = train_test_split(X, y, test_size=0.2, random_state=42)\n",
    "\n",
    "model = RandomForestClassifier(n_estimators=1000, oob_score=True, n_jobs=-1, random_state=42, max_features=None, min_samples_leaf=5)\n",
    "\n",
    "model.fit(X,y)\n",
    "\n",
    "y_pred = model.predict(X_test)\n",
    "acc = accuracy_score(y_test, y_pred)\n",
    "print(\"Accuracy: \", acc)"
   ]
  },
  {
   "cell_type": "markdown",
   "metadata": {},
   "source": [
    "We become a accuracy of 89%."
   ]
  },
  {
   "cell_type": "markdown",
   "metadata": {},
   "source": [
    "Next, we plot the ROC curve. "
   ]
  },
  {
   "cell_type": "code",
   "execution_count": 62,
   "metadata": {},
   "outputs": [
    {
     "data": {
      "image/png": "[encoded data removed]",
      "text/plain": [
       "<Figure size 800x600 with 1 Axes>"
      ]
     },
     "metadata": {},
     "output_type": "display_data"
    }
   ],
   "source": [
    "y_pred_proba = model.predict_proba(X_test)[:, 1]  # Probability of class 1 (positive class)\n",
    "\n",
    "fpr, tpr, thresholds = roc_curve(y_test, y_pred_proba)\n",
    "\n",
    "roc_auc = roc_auc_score(y_test, y_pred_proba)\n",
    "\n",
    "plt.figure(figsize=(8, 6))\n",
    "plt.plot(fpr, tpr, color='darkorange', lw=2, label='ROC curve (AUC = {:.2f})'.format(roc_auc))\n",
    "plt.plot([0, 1], [0, 1], color='navy', lw=2, linestyle='--')\n",
    "plt.xlim([0.0, 1.0])\n",
    "plt.ylim([0.0, 1.05])\n",
    "plt.xlabel('False Positive Rate')\n",
    "plt.ylabel('True Positive Rate')\n",
    "plt.title('Receiver Operating Characteristic')\n",
    "plt.legend(loc='lower right')\n",
    "plt.show()"
   ]
  },
  {
   "cell_type": "markdown",
   "metadata": {},
   "source": [
    "The ROC curve has a AUC of 96%. this is a very high score!"
   ]
  },
  {
   "cell_type": "markdown",
   "metadata": {},
   "source": [
    "Now we also plot the confusion matrix."
   ]
  },
  {
   "cell_type": "code",
   "execution_count": null,
   "metadata": {},
   "outputs": [
    {
     "data": {
      "image/png": "[encoded data removed]",
      "text/plain": [
       "<Figure size 640x480 with 1 Axes>"
      ]
     },
     "metadata": {},
     "output_type": "display_data"
    }
   ],
   "source": [
    "matrix = confusion_matrix(y_test, y_pred)\n",
    "df_confusion = pd.DataFrame(matrix, index=['Predicted Positive','Predicted Negative'],columns=['Actual Positive','Actual Negative'])\n",
    "colormap = sns.color_palette(\"coolwarm\")\n",
    "sns.heatmap(df_confusion, annot=True, cbar=None, cmap=colormap)\n",
    "plt.title(\"Confusion Matrix\")\n",
    "plt.tight_layout()\n",
    "plt.show()"
   ]
  },
  {
   "cell_type": "markdown",
   "metadata": {},
   "source": [
    "In the confusion matrix, we see that it predicted only 20 wrong out of 179 values!"
   ]
  },
  {
   "cell_type": "markdown",
   "metadata": {},
   "source": [
    "To conclude, we calculate some performance metrics."
   ]
  },
  {
   "cell_type": "code",
   "execution_count": 65,
   "metadata": {},
   "outputs": [
    {
     "name": "stdout",
     "output_type": "stream",
     "text": [
      "True Negative (TN) : 98\n",
      "False Positive (FP): 7\n",
      "False Negative (FN): 13\n",
      "True Positive (TP) : 61\n",
      "Sensitivity or TPR: 82%\n",
      "Specificity or TNR: 93%\n",
      "Precision: 90%\n",
      "Negative Predictive Value: 88%\n",
      "False Positive Rate: 7%\n",
      "False Negative Rate: 18%\n",
      "False Discovery Rate: 10%\n",
      "Accuracy: 89%\n"
     ]
    }
   ],
   "source": [
    "TN, FP, FN, TP = confusion_matrix(y_test, y_pred).ravel()\n",
    "Sensitivity  = float(TP)/(TP+FN)*100\n",
    "Specificity  = float(TN)/(TN+FP)*100\n",
    "Precision = float(TP)/(TP+FP)*100\n",
    "NPV = float(TN)/(TN+FN)*100\n",
    "FPR = float(FP)/(FP+TN)*100\n",
    "FNR = float(FN)/(TP+FN)*100\n",
    "FDR = float(FP)/(TP+FP)*100\n",
    "ACC = float(TP+TN)/(TP+FP+FN+TN)*100\n",
    "print(f\"True Negative (TN) : {TN}\")\n",
    "print(f\"False Positive (FP): {FP}\")\n",
    "print(f\"False Negative (FN): {FN}\")\n",
    "print(f\"True Positive (TP) : {TP}\")\n",
    "print(f\"Sensitivity or TPR: {round(Sensitivity)}%\")    \n",
    "print(f\"Specificity or TNR: {round(Specificity)}%\") \n",
    "print(f\"Precision: {round(Precision)}%\")   \n",
    "print(f\"Negative Predictive Value: {round(NPV)}%\")  \n",
    "print( f\"False Positive Rate: {round(FPR)}%\") \n",
    "print(f\"False Negative Rate: {round(FNR)}%\")  \n",
    "print(f\"False Discovery Rate: {round(FDR)}%\" )\n",
    "print(f\"Accuracy: {round(ACC)}%\")"
   ]
  },
  {
   "cell_type": "markdown",
   "metadata": {},
   "source": [
    "# Conclusion\n",
    "\n",
    "This is a very good model! It has a precision of 90% and an accuracy of 89%!"
   ]
  }
 ],
 "metadata": {
  "kernelspec": {
   "display_name": "MEM_env",
   "language": "python",
   "name": "python3"
  },
  "language_info": {
   "codemirror_mode": {
    "name": "ipython",
    "version": 3
   },
   "file_extension": ".py",
   "mimetype": "text/x-python",
   "name": "python",
   "nbconvert_exporter": "python",
   "pygments_lexer": "ipython3",
   "version": "3.12.0"
  }
 },
 "nbformat": 4,
 "nbformat_minor": 2
}
